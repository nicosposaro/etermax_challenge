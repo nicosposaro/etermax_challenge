{
  "nbformat": 4,
  "nbformat_minor": 0,
  "metadata": {
    "colab": {
      "name": "etermax.ipynb",
      "provenance": [],
      "authorship_tag": "ABX9TyNLz1uZcnaKTFMjI9ftFKBY",
      "include_colab_link": true
    },
    "kernelspec": {
      "name": "python3",
      "display_name": "Python 3"
    },
    "language_info": {
      "name": "python"
    }
  },
  "cells": [
    {
      "cell_type": "markdown",
      "metadata": {
        "id": "view-in-github",
        "colab_type": "text"
      },
      "source": [
        "<a href=\"https://colab.research.google.com/github/nicosposaro/etermax_challenge/blob/main/etermax.ipynb\" target=\"_parent\"><img src=\"https://colab.research.google.com/assets/colab-badge.svg\" alt=\"Open In Colab\"/></a>"
      ]
    },
    {
      "cell_type": "code",
      "metadata": {
        "id": "aX8Q8G_K5dUa"
      },
      "source": [
        "import pandas as pd"
      ],
      "execution_count": null,
      "outputs": []
    },
    {
      "cell_type": "code",
      "metadata": {
        "id": "61gMMFnL5ltG"
      },
      "source": [
        "data=pd.read_csv('Dataset.csv')"
      ],
      "execution_count": null,
      "outputs": []
    },
    {
      "cell_type": "code",
      "metadata": {
        "colab": {
          "base_uri": "https://localhost:8080/",
          "height": 326
        },
        "id": "u3TVUCXd5l36",
        "outputId": "0e1854ce-2958-4c5e-f7f4-e3e3dcbeedad"
      },
      "source": [
        "data.head(5)"
      ],
      "execution_count": null,
      "outputs": [
        {
          "output_type": "execute_result",
          "data": {
            "text/html": [
              "<div>\n",
              "<style scoped>\n",
              "    .dataframe tbody tr th:only-of-type {\n",
              "        vertical-align: middle;\n",
              "    }\n",
              "\n",
              "    .dataframe tbody tr th {\n",
              "        vertical-align: top;\n",
              "    }\n",
              "\n",
              "    .dataframe thead th {\n",
              "        text-align: right;\n",
              "    }\n",
              "</style>\n",
              "<table border=\"1\" class=\"dataframe\">\n",
              "  <thead>\n",
              "    <tr style=\"text-align: right;\">\n",
              "      <th></th>\n",
              "      <th>user_id</th>\n",
              "      <th>install_time</th>\n",
              "      <th>platform</th>\n",
              "      <th>country_region</th>\n",
              "      <th>city</th>\n",
              "      <th>gender</th>\n",
              "      <th>min_age_range</th>\n",
              "      <th>max_age_range</th>\n",
              "      <th>event_1</th>\n",
              "      <th>event_2</th>\n",
              "      <th>event_3</th>\n",
              "      <th>event_4</th>\n",
              "      <th>event_5</th>\n",
              "      <th>target_churn_indicator</th>\n",
              "    </tr>\n",
              "  </thead>\n",
              "  <tbody>\n",
              "    <tr>\n",
              "      <th>0</th>\n",
              "      <td>2ba6f357</td>\n",
              "      <td>2018-07-04 19:24:24</td>\n",
              "      <td>Android</td>\n",
              "      <td>Santa Cruz</td>\n",
              "      <td>Río Gallegos</td>\n",
              "      <td>male</td>\n",
              "      <td>13</td>\n",
              "      <td>17</td>\n",
              "      <td>1</td>\n",
              "      <td>2</td>\n",
              "      <td>0</td>\n",
              "      <td>1</td>\n",
              "      <td>1</td>\n",
              "      <td>0</td>\n",
              "    </tr>\n",
              "    <tr>\n",
              "      <th>1</th>\n",
              "      <td>3cb936c1</td>\n",
              "      <td>2018-06-30 13:41:29</td>\n",
              "      <td>Android</td>\n",
              "      <td>Corrientes</td>\n",
              "      <td>Corrientes</td>\n",
              "      <td>male</td>\n",
              "      <td>13</td>\n",
              "      <td>17</td>\n",
              "      <td>0</td>\n",
              "      <td>7</td>\n",
              "      <td>0</td>\n",
              "      <td>3</td>\n",
              "      <td>0</td>\n",
              "      <td>1</td>\n",
              "    </tr>\n",
              "    <tr>\n",
              "      <th>2</th>\n",
              "      <td>17d88bbc</td>\n",
              "      <td>2018-06-30 16:02:30</td>\n",
              "      <td>Android</td>\n",
              "      <td>Cordoba</td>\n",
              "      <td>Villa Carlos Paz</td>\n",
              "      <td>female</td>\n",
              "      <td>18</td>\n",
              "      <td>20</td>\n",
              "      <td>2</td>\n",
              "      <td>1</td>\n",
              "      <td>0</td>\n",
              "      <td>2</td>\n",
              "      <td>2</td>\n",
              "      <td>1</td>\n",
              "    </tr>\n",
              "    <tr>\n",
              "      <th>3</th>\n",
              "      <td>7baa10b6</td>\n",
              "      <td>2018-07-02 21:08:33</td>\n",
              "      <td>Android</td>\n",
              "      <td>Buenos Aires</td>\n",
              "      <td>Don Torcuato</td>\n",
              "      <td>female</td>\n",
              "      <td>13</td>\n",
              "      <td>17</td>\n",
              "      <td>5</td>\n",
              "      <td>6</td>\n",
              "      <td>0</td>\n",
              "      <td>2</td>\n",
              "      <td>5</td>\n",
              "      <td>0</td>\n",
              "    </tr>\n",
              "    <tr>\n",
              "      <th>4</th>\n",
              "      <td>120d379</td>\n",
              "      <td>2018-07-07 04:18:47</td>\n",
              "      <td>Android</td>\n",
              "      <td>Santiago del Estero</td>\n",
              "      <td>Santiago del Estero</td>\n",
              "      <td>female</td>\n",
              "      <td>13</td>\n",
              "      <td>17</td>\n",
              "      <td>8</td>\n",
              "      <td>12</td>\n",
              "      <td>0</td>\n",
              "      <td>2</td>\n",
              "      <td>3</td>\n",
              "      <td>0</td>\n",
              "    </tr>\n",
              "  </tbody>\n",
              "</table>\n",
              "</div>"
            ],
            "text/plain": [
              "    user_id         install_time  ... event_5 target_churn_indicator\n",
              "0  2ba6f357  2018-07-04 19:24:24  ...       1                      0\n",
              "1  3cb936c1  2018-06-30 13:41:29  ...       0                      1\n",
              "2  17d88bbc  2018-06-30 16:02:30  ...       2                      1\n",
              "3  7baa10b6  2018-07-02 21:08:33  ...       5                      0\n",
              "4   120d379  2018-07-07 04:18:47  ...       3                      0\n",
              "\n",
              "[5 rows x 14 columns]"
            ]
          },
          "metadata": {
            "tags": []
          },
          "execution_count": 17
        }
      ]
    },
    {
      "cell_type": "code",
      "metadata": {
        "id": "hpkgS85P-4Ph"
      },
      "source": [
        ""
      ],
      "execution_count": 18,
      "outputs": []
    },
    {
      "cell_type": "code",
      "metadata": {
        "id": "h-AN7AqJ_Ui_"
      },
      "source": [
        ""
      ],
      "execution_count": null,
      "outputs": []
    },
    {
      "cell_type": "code",
      "metadata": {
        "id": "Rzc0mnUA_Ul4"
      },
      "source": [
        ""
      ],
      "execution_count": null,
      "outputs": []
    },
    {
      "cell_type": "code",
      "metadata": {
        "id": "zJnWYsIq_UqO"
      },
      "source": [
        ""
      ],
      "execution_count": null,
      "outputs": []
    },
    {
      "cell_type": "code",
      "metadata": {
        "id": "_N6NCgsK_UwC"
      },
      "source": [
        ""
      ],
      "execution_count": null,
      "outputs": []
    }
  ]
}